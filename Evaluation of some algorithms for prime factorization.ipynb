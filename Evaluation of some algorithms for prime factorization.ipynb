{
  "nbformat": 4,
  "nbformat_minor": 0,
  "metadata": {
    "colab": {
      "provenance": [],
      "history_visible": true,
      "authorship_tag": "ABX9TyMeWv1DKP6Z45F0eZVZgeip",
      "include_colab_link": true
    },
    "kernelspec": {
      "name": "python3",
      "display_name": "Python 3"
    },
    "language_info": {
      "name": "python"
    }
  },
  "cells": [
    {
      "cell_type": "markdown",
      "metadata": {
        "id": "view-in-github",
        "colab_type": "text"
      },
      "source": [
        "<a href=\"https://colab.research.google.com/github/yutaka0321/private/blob/main/Evaluation%20of%20some%20algorithms%20for%20prime%20factorization.ipynb\" target=\"_parent\"><img src=\"https://colab.research.google.com/assets/colab-badge.svg\" alt=\"Open In Colab\"/></a>"
      ]
    },
    {
      "cell_type": "code",
      "execution_count": 2,
      "metadata": {
        "colab": {
          "base_uri": "https://localhost:8080/"
        },
        "id": "Ns9ZqkKmbRR6",
        "outputId": "5b628f8e-f87d-40f8-9ea3-6416a86944a4"
      },
      "outputs": [
        {
          "output_type": "stream",
          "name": "stdout",
          "text": [
            "Trial Division: [3, 3, 101, 3541, 3607, 3803, 27961] (Time: 44.766070 seconds)\n",
            "Sieve of Eratosthenes: [3, 3, 101, 3541, 3607, 3803, 27961] (Time: 390.673784 seconds)\n",
            "Fermat Factorization: [957021147, 1290011087] (Time: 5.778081 seconds)\n"
          ]
        }
      ],
      "source": [
        "import time\n",
        "import math\n",
        "\n",
        "# 試し割り法\n",
        "def trial_division(n):\n",
        "    factors = []\n",
        "    while n % 2 == 0:\n",
        "        factors.append(2)\n",
        "        n //= 2\n",
        "    for i in range(3, int(math.sqrt(n)) + 1, 2):\n",
        "        while n % i == 0:\n",
        "            factors.append(i)\n",
        "            n //= i\n",
        "    if n > 2:\n",
        "        factors.append(n)\n",
        "    return factors\n",
        "\n",
        "# エラトステネスのふるい\n",
        "def sieve_of_eratosthenes(n):\n",
        "    primes = []\n",
        "    sieve = [True] * (n + 1)\n",
        "    for p in range(2, n + 1):\n",
        "        if sieve[p]:\n",
        "            primes.append(p)\n",
        "            for multiple in range(p * p, n + 1, p):\n",
        "                sieve[multiple] = False\n",
        "    return primes\n",
        "\n",
        "def sieve_factorization(n):\n",
        "    primes = sieve_of_eratosthenes(int(math.sqrt(n)))\n",
        "    factors = []\n",
        "    for prime in primes:\n",
        "        while n % prime == 0:\n",
        "            factors.append(prime)\n",
        "            n //= prime\n",
        "    if n > 1:\n",
        "        factors.append(n)\n",
        "    return factors\n",
        "\n",
        "# フェルマ法\n",
        "def fermat_factorization(n):\n",
        "    if n % 2 == 0:\n",
        "        return [2] + fermat_factorization(n // 2)\n",
        "\n",
        "    if n < 0:\n",
        "        raise ValueError(\"n must be a positive integer\")\n",
        "\n",
        "    a = math.isqrt(n)\n",
        "    if a * a == n:\n",
        "        return [a]\n",
        "\n",
        "    while True:\n",
        "        b2 = a * a - n\n",
        "        if b2 < 0:\n",
        "            a += 1\n",
        "            continue\n",
        "        b = math.isqrt(b2)\n",
        "        if b * b == b2:\n",
        "            break\n",
        "        a += 1\n",
        "    return [a - b, a + b]\n",
        "\n",
        "def test_algorithm(algorithm, n):\n",
        "    start_time = time.time()\n",
        "    factors = algorithm(n)\n",
        "    end_time = time.time()\n",
        "    return factors, end_time - start_time\n",
        "\n",
        "if __name__ == \"__main__\":\n",
        "    number = 1234567890123456789  # 分解する数\n",
        "    algorithms = {\n",
        "        \"Trial Division\": trial_division,\n",
        "        \"Sieve of Eratosthenes\": sieve_factorization,\n",
        "        \"Fermat Factorization\": fermat_factorization,\n",
        "    }\n",
        "\n",
        "    for name, algo in algorithms.items():\n",
        "        factors, duration = test_algorithm(algo, number)\n",
        "        print(f\"{name}: {factors} (Time: {duration:.6f} seconds)\")\n"
      ]
    }
  ]
}